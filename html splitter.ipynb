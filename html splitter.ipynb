{
 "cells": [
  {
   "cell_type": "code",
   "execution_count": 2,
   "metadata": {},
   "outputs": [
    {
     "name": "stdout",
     "output_type": "stream",
     "text": [
      "Defaulting to user installation because normal site-packages is not writeable\n",
      "Collecting lxml\n",
      "  Downloading lxml-5.1.0-cp312-cp312-win_amd64.whl.metadata (3.6 kB)\n",
      "Downloading lxml-5.1.0-cp312-cp312-win_amd64.whl (3.9 MB)\n",
      "   ---------------------------------------- 0.0/3.9 MB ? eta -:--:--\n",
      "   ---------------------------------------- 0.0/3.9 MB ? eta -:--:--\n",
      "   ---------------------------------------- 0.0/3.9 MB ? eta -:--:--\n",
      "   ---------------------------------------- 0.0/3.9 MB 393.8 kB/s eta 0:00:10\n",
      "   ---- ----------------------------------- 0.4/3.9 MB 3.1 MB/s eta 0:00:02\n",
      "   --------------------- ------------------ 2.1/3.9 MB 8.8 MB/s eta 0:00:01\n",
      "   ---------------------------------------  3.9/3.9 MB 13.8 MB/s eta 0:00:01\n",
      "   ---------------------------------------- 3.9/3.9 MB 13.1 MB/s eta 0:00:00\n",
      "Installing collected packages: lxml\n",
      "Successfully installed lxml-5.1.0\n",
      "Note: you may need to restart the kernel to use updated packages.\n"
     ]
    }
   ],
   "source": [
    "pip install lxml"
   ]
  },
  {
   "cell_type": "code",
   "execution_count": 2,
   "metadata": {},
   "outputs": [
    {
     "data": {
      "text/plain": [
       "[Document(page_content='Foo'),\n",
       " Document(page_content='Some intro text about Foo.  \\nBar main section Bar subsection 1 Bar subsection 2', metadata={'Header 1': 'Foo'}),\n",
       " Document(page_content='Some intro text about Bar.', metadata={'Header 1': 'Foo', 'Header 2': 'Bar main section'}),\n",
       " Document(page_content='Some text about the first subtopic of Bar.', metadata={'Header 1': 'Foo', 'Header 2': 'Bar main section', 'Header 3': 'Bar subsection 1'}),\n",
       " Document(page_content='Some text about the second subtopic of Bar.', metadata={'Header 1': 'Foo', 'Header 2': 'Bar main section', 'Header 3': 'Bar subsection 2'}),\n",
       " Document(page_content='Baz', metadata={'Header 1': 'Foo'}),\n",
       " Document(page_content='Some text about Baz', metadata={'Header 1': 'Foo', 'Header 2': 'Baz'}),\n",
       " Document(page_content='Some concluding text about Foo', metadata={'Header 1': 'Foo'})]"
      ]
     },
     "execution_count": 2,
     "metadata": {},
     "output_type": "execute_result"
    }
   ],
   "source": [
    "from langchain.text_splitter import HTMLHeaderTextSplitter\n",
    "\n",
    "html_string = \"\"\"\n",
    "<!DOCTYPE html>\n",
    "<html>\n",
    "<body>\n",
    "    <div>\n",
    "        <h1>Foo</h1>\n",
    "        <p>Some intro text about Foo.</p>\n",
    "        <div>\n",
    "            <h2>Bar main section</h2>\n",
    "            <p>Some intro text about Bar.</p>\n",
    "            <h3>Bar subsection 1</h3>\n",
    "            <p>Some text about the first subtopic of Bar.</p>\n",
    "            <h3>Bar subsection 2</h3>\n",
    "            <p>Some text about the second subtopic of Bar.</p>\n",
    "        </div>\n",
    "        <div>\n",
    "            <h2>Baz</h2>\n",
    "            <p>Some text about Baz</p>\n",
    "        </div>\n",
    "        <br>\n",
    "        <p>Some concluding text about Foo</p>\n",
    "    </div>\n",
    "</body>\n",
    "</html>\n",
    "\"\"\"\n",
    "\n",
    "headers_to_split_on = [\n",
    "    (\"h1\", \"Header 1\"),\n",
    "    (\"h2\", \"Header 2\"),\n",
    "    (\"h3\", \"Header 3\"),\n",
    "]\n",
    "\n",
    "html_splitter = HTMLHeaderTextSplitter(headers_to_split_on=headers_to_split_on)\n",
    "html_header_splits = html_splitter.split_text(html_string)\n",
    "html_header_splits"
   ]
  },
  {
   "cell_type": "code",
   "execution_count": 9,
   "metadata": {},
   "outputs": [
    {
     "data": {
      "text/plain": [
       "[Document(page_content='Experience  \\nAcademy  \\nData Science  \\nNeovarsity  \\nCoursesEvents  \\nTopics  \\nExplore  \\nSearch for Articles, Topics  \\nExperience  \\nExperience Scaler  \\nWhat is the Structure of HTML Document?  \\nWhat is the Structure of HTML Document?  \\nWhat is the Structure of HTML Document?  \\nHTML Cheatsheet'),\n",
       " Document(page_content='Learn via video course  \\nFREE  \\nView all courses  \\nStart Learning  \\nJavaScript Course With Certification: Unlocking the Power of JavaScript  \\nby Mrinal Bhattacharya  \\n1000  \\n4.8  \\nStart Learning View all courses  \\nStart Learning  \\nJavaScript Course With Certification: Unlocking the Power of JavaScript  \\nby Mrinal Bhattacharya  \\n1000  \\n4.8', metadata={'Header 1': 'What is the Structure of HTML Document?'}),\n",
       " Document(page_content='1000  \\n4.8  \\nBasic Structure of HTML <!DOCTYPE>Syntax of <html>Syntax of the <html> Tag <head>Syntax of the <head> Tag <title>Syntax of the <title> Tag <body>Syntax of the <body> Tag Learn more Conclusion', metadata={'Header 1': 'What is the Structure of HTML Document?'}),\n",
       " Document(page_content=\"HTML\\xa0is a web language. It is used to design web pages or to arrange a website's page layouts. HTML stands for HYPERTEXT MARKUP LANGUAGE, and as the name implies, it is a markup language rather than a programming language. So, no such error can occur during the execution of HTML code. HTML code was rendered by the browser. It was not compiled or interpreted.\", metadata={'Header 1': 'What is the Structure of HTML Document?'}),\n",
       " Document(page_content=\"HTML uses specified\\xa0tags and attributes to instruct browsers on how to display text, which includes what format, style, font size, and pictures to display. HTML is a case-insensitive language. Case insensitive means that there is no distinction between upper and lower case (capital and small letters), which are both viewed as the same; for example, 'P' and 'p' are both the same here. In HTML, tags are classified into two types:\", metadata={'Header 1': 'What is the Structure of HTML Document?'}),\n",
       " Document(page_content='Paired tags: These tags come in pairs. They have both opening(< >) and closing(</ >) tags. For eg, <p> ...</p> Empty tags: These tags do not come in pairs and contain no information. For eg, <img src=\"\" alt=\"\">  \\nAn HTML document is divided into two parts:', metadata={'Header 1': 'What is the Structure of HTML Document?'}),\n",
       " Document(page_content='Head part- The title and metadata of a web document are contained in the head element. Body part- The body element includes the information that you wish to display on a web page. To make your web pages HTML 4 compatible, include a document type declaration (DTD) before the HTML element. When you create a new web page, many web publishing software will automatically add DTD and basic tags. The first tag on a web page shows the markup language used for the document. The tag offers information', metadata={'Header 1': 'What is the Structure of HTML Document?'}),\n",
       " Document(page_content='The tag offers information about the web page. Finally, the content appears in the tag.', metadata={'Header 1': 'What is the Structure of HTML Document?'}),\n",
       " Document(page_content=\"An HTML document's basic structure consists of5 elements:  \\n<!DOCTYPE> <html> <head> <title> <body>\", metadata={'Header 1': 'What is the Structure of HTML Document?', 'Header 2': 'Basic Structure of HTML'}),\n",
       " Document(page_content='The tag in HTML is used to inform\\xa0the browser about the HTML version used in the web\\xa0page. It is referred as the document type declaration (DTD). It is not really a tag/element but rather an instruction to the browser regarding the document type. It is a null element that does not have a closing tag and must not contain any content.', metadata={'Header 1': 'What is the Structure of HTML Document?', 'Header 2': '<!DOCTYPE>'}),\n",
       " Document(page_content='Actually, there are various types of HTML e.g. HTML 4.01 Strict, HTML 4.01 Transitional, HTML 4.01 Frameset, XHTML 1.0 Strict, XHTML 1.0 Transitional, XHTML 1.0 Frameset, XHTML 1.1, etc.  \\nSince HTML 4.01 was based on SGML, the declaration relates to the Document Type Declaration (DTD) in HTML 4.01. However, HTML 5 is not based on SGML (Standard Generalized Markup Language).', metadata={'Header 1': 'What is the Structure of HTML Document?', 'Header 2': '<!DOCTYPE>'}),\n",
       " Document(page_content='Example: In the given example, we are going to use the <!DOCTYPE html> tag to declare the version of HTML the page is written in. It is an empty tag and does not contain any information.  \\nOutput', metadata={'Header 1': 'What is the Structure of HTML Document?', 'Header 2': '<!DOCTYPE>'}),\n",
       " Document(page_content='The <html> tag in HTML is used to specify the root of HTML and XHTML pages. The <html> tag informs the browser that this is an HTML document. It is the second outer container for everything in an HTML document, followed by\\xa0the tag. The <html> tag requires a beginning and ending tag.  \\nExample: In the given example, we are going to use the <html> tag to show how it contains the contents of an HTML document.  \\nOutput:', metadata={'Header 1': 'What is the Structure of HTML Document?', 'Header 2': '<html>'}),\n",
       " Document(page_content='The <head> tag in\\xa0HTML\\xa0is used to contain metadata (data about data). It is used between the<html> and <body>\\xa0tags.  \\nThe head of an HTML document is a section of the document whose content is not displayed in the browser when the page loads. It only contains HTML document metadata, which specifies information about the HTML document.', metadata={'Header 1': 'What is the Structure of HTML Document?', 'Header 2': '<head>'}),\n",
       " Document(page_content='Depending on our needs, an HTML head might contain\\xa0a lot of metadata information or can have\\xa0very little or no metadata information. However, the head section of an HTML document plays an essential role in the creation of a website.  \\nThe document title, character set, styles, links, scripts, and other meta information are defined by metadata.  \\nThe following is a list of metadata tags:  \\n<title> <style> <meta> <link> <script> <base>', metadata={'Header 1': 'What is the Structure of HTML Document?', 'Header 2': '<head>'}),\n",
       " Document(page_content='Example: In this example, we are going to use the <head> tag containing the <style> (to add CSS to our content) and <title> (to add title to our webpage) tag.  \\nOutput:', metadata={'Header 1': 'What is the Structure of HTML Document?', 'Header 2': '<head>'}),\n",
       " Document(page_content='This <title> tag in HTML\\xa0displays the title of a web page and\\xa0can help in higher rankings in search results\\xa0if appropriate keywords are included.', metadata={'Header 1': 'What is the Structure of HTML Document?', 'Header 2': '<title>'}),\n",
       " Document(page_content='The most significant meta element to add to our webpage is the <title> element. It gives a relevant title to the full HTML content. It appears at the top of the browser window and gives the webpage a fitting name when saved as a favorite or bookmark. A solid web page title will guarantee a higher rank in search results. Thus, we must constantly utilize relevant keywords.', metadata={'Header 1': 'What is the Structure of HTML Document?', 'Header 2': '<title>'}),\n",
       " Document(page_content='It can be found in all HTML/XHTML documents. The <title> element must be positioned between the <head> element, and there can only be one title element per document.  \\nExample: In this example, we are going to use the <title> tag to add a title to our webpage.  \\nOutput:', metadata={'Header 1': 'What is the Structure of HTML Document?', 'Header 2': '<title>'}),\n",
       " Document(page_content='The <body> tag in HTML\\xa0specifies the main content of an HTML document that appears on\\xa0the browser. It can contain headings,\\xa0text, paragraphs,\\xa0photos, tables, links, videos, etc.  \\nThe <body> tag must come after the <head> tag, or it must be inserted between the </head> and </html> tags. This tag is essential for all HTML documents and should only be used once throughout the document.', metadata={'Header 1': 'What is the Structure of HTML Document?', 'Header 2': '<body>'}),\n",
       " Document(page_content='Example: In the given example, we are going to use the <body> tag to add a heading, paragraph, and image to our webpage.  \\nOutput of the above code:', metadata={'Header 1': 'What is the Structure of HTML Document?', 'Header 2': '<body>'}),\n",
       " Document(page_content='Head Tag in HTML Introduction to HTML Body Tag in HTML', metadata={'Header 1': 'What is the Structure of HTML Document?', 'Header 2': 'Learn more'}),\n",
       " Document(page_content='Every HTML document must begin with a declaration.\\xa0It is not an HTML element or HTML tag but serves as information to the browser about the type of document to expect. The <html> tag is the root of an HTML document and contains all other HTML elements (excluding the !DOCTYPE> tag). The <head> tag in HTML is a container for metadata (it is the data\\xa0about the HTML document that is not displayed) and is inserted between the <html> and <body> tags. The <title> tag in HTML is used to define the title', metadata={'Header 1': 'What is the Structure of HTML Document?', 'Header 2': 'Conclusion'}),\n",
       " Document(page_content=\"is used to define the title of the webpage.\\xa0The title must be text-only and appear in the browser's title bar or the page's tab. The <body> tag in HTML\\xa0holds all of the main content of a webpage, such as headings, texts,\\xa0paragraphs, images, tables, etc.\", metadata={'Header 1': 'What is the Structure of HTML Document?', 'Header 2': 'Conclusion'}),\n",
       " Document(page_content='Got suggestions? We would love to hear your feedback.  \\nYour feedback is important to help us improve  \\nCloseSubmit  \\nA Free learning platform  \\nmade with \\xa0 \\xa0 by \\xa0  \\nExplore Scaler  \\nAcademyData Science & MLNeovarsity  \\nExplore Topics  \\nCoursesChallengesContestTopicsArticlesEvents  \\nResources  \\nAbout UsBlogCareersReview  \\nDownload the \\xa0  \\napp!  \\nGet all scaler resources under one roof!  \\n4.4  \\n1.71 K Reviews  \\n100K+  \\nDownloads  \\nPopular Free Certification Courses  \\nJava Course for Beginners'),\n",
       " Document(page_content='Java Course for Beginners  \\nC++ Course with Certificate  \\nPython Course for Beginners  \\nJavascript Free Course for Beginners  \\nData Science Course for Beginners  \\nDBMS Course  \\nPython and SQL for Data Science Course  \\nDSA Problem Solving for Interviews  \\nInstagram System Design Course  \\nDynamic Programming Course  \\nAll Courses  \\nPopular Tutorials  \\nPython Tutorial  \\nJava Tutorial  \\nDBMS Tutorial  \\nJavascript Tutorial  \\nC++ Tutorial  \\nSQL Tutorial  \\nSoftware Engineering Tutorial'),\n",
       " Document(page_content='Data Science Tutorial  \\nPandas Tutorial  \\nDeep Learning Tutorial  \\nAll Tutorials  \\nCompilers  \\nPython Compiler  \\nJava Compiler  \\nJavascript Compiler  \\nC Compiler  \\nC++ Compiler  \\nTools  \\nJson Validator  \\nSQL Formatter  \\nXML Formatter  \\nCSS Formatter  \\nJavaScript Formatter  \\nCopyright 2024 InterviewBit Technologies Pvt. Ltd. All Rights Reserved.  \\nPrivacy PolicyTerms of UseContact Us')]"
      ]
     },
     "execution_count": 9,
     "metadata": {},
     "output_type": "execute_result"
    }
   ],
   "source": [
    "from langchain.text_splitter import RecursiveCharacterTextSplitter\n",
    "\n",
    "url = \"https://www.scaler.com/topics/structure-of-html-document/\"\n",
    "\n",
    "headers_to_split_on = [\n",
    "    (\"h1\", \"Header 1\"),\n",
    "    (\"h2\", \"Header 2\"),\n",
    "    \n",
    "]\n",
    "\n",
    "html_splitter = HTMLHeaderTextSplitter(headers_to_split_on=headers_to_split_on)\n",
    "\n",
    "# for local file use html_splitter.split_text_from_file(<path_to_file>)\n",
    "html_header_splits = html_splitter.split_text_from_url(url)\n",
    "\n",
    "chunk_size = 500\n",
    "chunk_overlap = 30\n",
    "text_splitter = RecursiveCharacterTextSplitter(\n",
    "    chunk_size=chunk_size, chunk_overlap=chunk_overlap\n",
    ")\n",
    "\n",
    "# Split\n",
    "splits = text_splitter.split_documents(html_header_splits)\n",
    "splits[0:100]"
   ]
  },
  {
   "cell_type": "code",
   "execution_count": 13,
   "metadata": {},
   "outputs": [
    {
     "name": "stdout",
     "output_type": "stream",
     "text": [
      "Experience  \n",
      "Academy  \n",
      "Data Science  \n",
      "Neovarsity  \n",
      "CoursesEvents  \n",
      "Topics  \n",
      "Explore  \n",
      "Search for Articles, Topics  \n",
      "Experience  \n",
      "Experience Scaler  \n",
      "What is the Structure of HTML Document?  \n",
      "What is the Structure of HTML Document?  \n",
      "What is the Structure of HTML Document?  \n",
      "HTML Cheatsheet  \n",
      "Learn via video course  \n",
      "FREE  \n",
      "View all courses  \n",
      "Start Learning  \n",
      "JavaScript Course With Certification: Unlocking the Power of JavaScript  \n",
      "by Mrinal Bhattacharya  \n",
      "1000  \n",
      "4.8  \n",
      "Start Learning View all courses  \n",
      "Start Learning  \n",
      "JavaScript Course With Certification: Unlocking the Power of JavaScript  \n",
      "by Mrinal Bhattacharya  \n",
      "1000  \n",
      "4.8  \n",
      "Basic Structure of HTML <!DOCTYPE>Syntax of <html>Syntax of the <html> Tag <head>Syntax of the <head> Tag <title>Syntax of the <title> Tag <body>Syntax of the <body> Tag Learn more Conclusion  \n",
      "HTML is a web language. It is used to design web pages or to arrange a website's page layouts. HTML stands for HYPERTEXT MARKUP LANGUAGE, and as the name implies, it is a\n"
     ]
    }
   ],
   "source": [
    "url = \"https://www.scaler.com/topics/structure-of-html-document/\"\n",
    "\n",
    "headers_to_split_on = [\n",
    "    (\"h3\", \"Header 2\")\n",
    "]\n",
    "\n",
    "html_splitter = HTMLHeaderTextSplitter(headers_to_split_on=headers_to_split_on)\n",
    "html_header_splits = html_splitter.split_text_from_url(url)\n",
    "print(html_header_splits[0].page_content[0:1000])"
   ]
  }
 ],
 "metadata": {
  "kernelspec": {
   "display_name": "Python 3",
   "language": "python",
   "name": "python3"
  },
  "language_info": {
   "codemirror_mode": {
    "name": "ipython",
    "version": 3
   },
   "file_extension": ".py",
   "mimetype": "text/x-python",
   "name": "python",
   "nbconvert_exporter": "python",
   "pygments_lexer": "ipython3",
   "version": "3.12.2"
  }
 },
 "nbformat": 4,
 "nbformat_minor": 2
}
